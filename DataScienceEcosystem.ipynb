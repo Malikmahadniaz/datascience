{
 "cells": [
  {
   "cell_type": "markdown",
   "id": "27dd6e35-8b5f-4d28-b92e-88159b20b894",
   "metadata": {},
   "source": [
    "# Data Science Tools and Ecosystem"
   ]
  },
  {
   "cell_type": "markdown",
   "id": "d6479493-5e67-4830-8d76-4a2f4d6f1aa0",
   "metadata": {},
   "source": [
    "In this notebook, Data Science Tools and Ecosystem are summarized.\n",
    "\n"
   ]
  },
  {
   "cell_type": "markdown",
   "id": "8b3535c1-3e3a-4044-9665-58f4e66ed207",
   "metadata": {},
   "source": [
    "Some of the popular languages that Data Scientists use are:\n",
    "\n",
    "1. Python  \n",
    "2. R  \n",
    "3. SQL  \n",
    "4. Julia  \n",
    "5. Scala\n"
   ]
  },
  {
   "cell_type": "markdown",
   "id": "9e52b4a8-c841-407f-b8cd-0c8ff49ce264",
   "metadata": {},
   "source": [
    "| Data Science Tools       |\n",
    "|---------------------------|\n",
    "| Jupyter Notebook         |\n",
    "| RStudio                  |\n",
    "| Apache Zeppelin          |\n"
   ]
  },
  {
   "cell_type": "markdown",
   "id": "7e5b001b-3c4f-4f6e-9370-74d445915e38",
   "metadata": {},
   "source": [
    "### Below are a few examples of evaluating arithmetic expressions in Python"
   ]
  },
  {
   "cell_type": "code",
   "execution_count": null,
   "id": "5d97562f-fd9e-497f-9a41-810dd62aa1f6",
   "metadata": {},
   "outputs": [],
   "source": [
    "# This is a simple arithmetic expression to multiply then add integers\n",
    "(3 * 4) + 5\n"
   ]
  },
  {
   "cell_type": "code",
   "execution_count": null,
   "id": "2821fc29-2cf9-4536-abb5-93cec38768ce",
   "metadata": {
    "scrolled": true
   },
   "outputs": [],
   "source": [
    "# This will convert 200 minutes to hours by dividing by 60\n",
    "200 / 60\n"
   ]
  },
  {
   "cell_type": "markdown",
   "id": "0db45e9d-c061-4730-94d3-e79a413d2a0b",
   "metadata": {},
   "source": [
    "**Objectives:**\n",
    "\n",
    "- List popular languages for Data Science  \n",
    "- Create and format Markdown cells  \n",
    "- Identify open-source tools used in Data Science  \n",
    "- Perform arithmetic operations in Python  \n",
    "- Convert units such as minutes to hours using Python expressions  \n"
   ]
  },
  {
   "cell_type": "markdown",
   "id": "fce7ae9e-02dc-4d4a-b526-c7193bd5a53a",
   "metadata": {},
   "source": [
    "## Author\n",
    "\n",
    "Muhammad Mahad Niaz"
   ]
  },
  {
   "cell_type": "code",
   "execution_count": null,
   "id": "c351ba80-8a73-45cf-86b1-fb2571ca2f8d",
   "metadata": {},
   "outputs": [],
   "source": []
  },
  {
   "cell_type": "code",
   "execution_count": null,
   "id": "c4e33040-217d-4660-8bf6-fb1e322a8230",
   "metadata": {},
   "outputs": [],
   "source": []
  }
 ],
 "metadata": {
  "kernelspec": {
   "display_name": "Python 3 (ipykernel)",
   "language": "python",
   "name": "python3"
  },
  "language_info": {
   "codemirror_mode": {
    "name": "ipython",
    "version": 3
   },
   "file_extension": ".py",
   "mimetype": "text/x-python",
   "name": "python",
   "nbconvert_exporter": "python",
   "pygments_lexer": "ipython3",
   "version": "3.11.9"
  }
 },
 "nbformat": 4,
 "nbformat_minor": 5
}
